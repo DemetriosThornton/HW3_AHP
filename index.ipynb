{
 "cells": [
  {
   "cell_type": "markdown",
   "id": "999271d9-14e4-47af-b1ff-462c118e56d9",
   "metadata": {},
   "source": [
    "Demetrios Thornton \n",
    "DACSS 690C\n",
    "HW 3 "
   ]
  },
  {
   "cell_type": "code",
   "execution_count": 2,
   "id": "e41c8a71-287f-46d7-afe7-3ead7ca4a253",
   "metadata": {},
   "outputs": [
    {
     "name": "stdout",
     "output_type": "stream",
     "text": [
      "Consistency Ratios:\n",
      "Criteria: 0.2290\n",
      "Learning: 0.0462\n",
      "Friends: 0.0000\n",
      "School Life: 0.0000\n",
      "Vocational: 0.1797\n",
      "College Prep: 0.0000\n",
      "Music Classes: 0.8641\n",
      "\n",
      "Final Ranking of Schools:\n",
      "   Final Score\n",
      "B     0.378257\n",
      "C     0.321965\n",
      "A     0.299778\n"
     ]
    }
   ],
   "source": [
    "\n",
    "import pandas as pd\n",
    "import numpy as np\n",
    "\n",
    "\n",
    "link = \"HW3AHP.xlsx\"\n",
    "\n",
    "\n",
    "criteria = pd.read_excel(link, sheet_name=\"Criteria\", index_col=0)\n",
    "learning = pd.read_excel(link, sheet_name=\"Criterion1\", index_col=0)\n",
    "friends = pd.read_excel(link, sheet_name=\"Criterion2\", index_col=0)\n",
    "school_life = pd.read_excel(link, sheet_name=\"Criterion3\", index_col=0)\n",
    "vocational = pd.read_excel(link, sheet_name=\"Criterion4\", index_col=0)\n",
    "college_prep = pd.read_excel(link, sheet_name=\"Criterion5\", index_col=0)\n",
    "music_classes = pd.read_excel(link, sheet_name=\"Criterion6\", index_col=0)\n",
    "\n",
    "\n",
    "def ahp(matrix):\n",
    "    eigvals, eigvecs = np.linalg.eig(matrix)\n",
    "    max_index = np.argmax(eigvals.real)\n",
    "    max_eigval = eigvals[max_index].real\n",
    "    priority_vector = eigvecs[:, max_index].real\n",
    "    priority_vector = priority_vector / priority_vector.sum()\n",
    "\n",
    "    n = matrix.shape[0]\n",
    "    CI = (max_eigval - n) / (n - 1)\n",
    "    RI_dict = {1:0, 2:0, 3:0.58, 4:0.90, 5:1.12, 6:1.24, 7:1.32, 8:1.41, 9:1.45, 10:1.49}\n",
    "    RI = RI_dict.get(n, 1.49)\n",
    "    if RI == 0:\n",
    "        CR = 0\n",
    "    else:\n",
    "        CR = CI / RI\n",
    "    \n",
    "    return priority_vector, CR\n",
    "\n",
    "priority_criteria, cr_criteria = ahp(criteria.values)\n",
    "priority_learning, cr_learning = ahp(learning.values)\n",
    "priority_friends, cr_friends = ahp(friends.values)\n",
    "priority_school_life, cr_school_life = ahp(school_life.values)\n",
    "priority_vocational, cr_vocational = ahp(vocational.values)\n",
    "priority_college_prep, cr_college_prep = ahp(college_prep.values)\n",
    "priority_music_classes, cr_music_classes = ahp(music_classes.values)\n",
    "\n",
    "\n",
    "print(\"Consistency Ratios:\")\n",
    "print(f\"Criteria: {cr_criteria:.4f}\")\n",
    "print(f\"Learning: {cr_learning:.4f}\")\n",
    "print(f\"Friends: {cr_friends:.4f}\")\n",
    "print(f\"School Life: {cr_school_life:.4f}\")\n",
    "print(f\"Vocational: {cr_vocational:.4f}\")\n",
    "print(f\"College Prep: {cr_college_prep:.4f}\")\n",
    "print(f\"Music Classes: {cr_music_classes:.4f}\")\n",
    "\n",
    "\n",
    "alternatives_matrix = np.vstack([\n",
    "    priority_learning,\n",
    "    priority_friends,\n",
    "    priority_school_life,\n",
    "    priority_vocational,\n",
    "    priority_college_prep,\n",
    "    priority_music_classes\n",
    "])\n",
    "\n",
    "final_scores = priority_criteria @ alternatives_matrix\n",
    "\n",
    "schools = ['A', 'B', 'C']  \n",
    "final_scores_df = pd.DataFrame(final_scores, index=schools, columns=[\"Final Score\"]).sort_values(by=\"Final Score\", ascending=False)\n",
    "\n",
    "print(\"\\nFinal Ranking of Schools:\")\n",
    "print(final_scores_df)"
   ]
  }
 ],
 "metadata": {
  "kernelspec": {
   "display_name": "Python [conda env:base] *",
   "language": "python",
   "name": "conda-base-py"
  },
  "language_info": {
   "codemirror_mode": {
    "name": "ipython",
    "version": 3
   },
   "file_extension": ".py",
   "mimetype": "text/x-python",
   "name": "python",
   "nbconvert_exporter": "python",
   "pygments_lexer": "ipython3",
   "version": "3.12.7"
  }
 },
 "nbformat": 4,
 "nbformat_minor": 5
}
